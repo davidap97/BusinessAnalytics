{
 "cells": [
  {
   "cell_type": "code",
   "execution_count": 17,
   "id": "ca45d6b9-2035-453e-bbcc-4e43355681b8",
   "metadata": {},
   "outputs": [
    {
     "name": "stdout",
     "output_type": "stream",
     "text": [
      "CSV-Datei wurde erstellt!\n"
     ]
    }
   ],
   "source": [
    "# Create a CSV file\n",
    "\n",
    "import csv\n",
    "import pandas as pd\n",
    "\n",
    "daten = {'Bestellnummer': [1001, 1002,1003,1004,1005,1006,1007,1008],\n",
    "         \n",
    "         \n",
    "         'Bestellzeitpunkt': ['2023-09-01 08:30', '2023-09-01 09:00','2023-09-01 10:00','2023-09-01 11:15','2023-09-01 12:00','2023-09-01 13:30','2023-09-01 14:45','2023-09-01 15:30'\n",
    "                                                                                          ],\n",
    "    \n",
    "         \n",
    "         \n",
    "         'Bearbeitungszeitpunkt': ['2023-09-01 10:30','2023-09-01 12:00','2023-09-01 11:30','2023-09-01 12:45','2023-09-01 14:00','2023-09-01 15:00','2023-09-01 16:30','2023-09-01 17:00'],\n",
    "    \n",
    "         \n",
    "         \n",
    "         \n",
    "         'Versandzeitpunkt': ['2023-09-02 08:00','2023-09-02 09:00','2023-09-02 10:00','2023-09-02 11:30','2023-09-02 13:00','2023-09-02 14:00','2023-09-02 15:30','2023-09-02 16:00'],\n",
    "    \n",
    "        \n",
    "         \n",
    "         'Produktkategorie': ['Elektronik','Kleidung','Bücher','Haus & Garten','Elektronik','Schuhe','Spielzeug','Sport'],\n",
    "\n",
    "         \n",
    "             'Bestellwert': [250,80,30,120,350,70,60,150] }\n",
    "\n",
    "# Erstellen eines DataFrames\n",
    "df = pd.DataFrame(daten)\n",
    "\n",
    "# Speichern als CSV-Datei\n",
    "df.to_csv('bestellungen.csv', index=False)\n",
    "\n",
    "print(\"CSV-Datei wurde erstellt!\")\n"
   ]
  },
  {
   "cell_type": "code",
   "execution_count": 15,
   "id": "3a6782fe-a2a3-428e-ba7d-df28b817349e",
   "metadata": {},
   "outputs": [],
   "source": [
    "\n",
    "\n",
    "\n",
    "\n",
    "\n",
    "\n",
    "\n"
   ]
  }
 ],
 "metadata": {
  "kernelspec": {
   "display_name": "Python 3 (ipykernel)",
   "language": "python",
   "name": "python3"
  },
  "language_info": {
   "codemirror_mode": {
    "name": "ipython",
    "version": 3
   },
   "file_extension": ".py",
   "mimetype": "text/x-python",
   "name": "python",
   "nbconvert_exporter": "python",
   "pygments_lexer": "ipython3",
   "version": "3.9.18"
  }
 },
 "nbformat": 4,
 "nbformat_minor": 5
}
